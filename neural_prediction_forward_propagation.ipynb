{
 "cells": [
  {
   "cell_type": "markdown",
   "metadata": {},
   "source": [
    "Reference - Grokking Deep Learning by Andrew W. Trask, Manning Publications Co."
   ]
  },
  {
   "cell_type": "markdown",
   "metadata": {},
   "source": [
    "Just a forward propagation.\n",
    "Multiple inputs, single output\n"
   ]
  },
  {
   "cell_type": "code",
   "execution_count": 4,
   "metadata": {},
   "outputs": [
    {
     "name": "stdout",
     "output_type": "stream",
     "text": [
      "0.9800000000000001\n"
     ]
    }
   ],
   "source": [
    "# Without Numpy\n",
    "\n",
    "def w_sum(a, b):\n",
    "   assert(len(a) == len(b))\n",
    "   output = 0\n",
    "   for i in range(len(a)):\n",
    "      output += (a[i] * b[i])\n",
    "   return output                  # All these could be done in one line in Numpy with np.dot(a, b) function\n",
    "\n",
    "weights = [0.1, 0.2, 0]\n",
    "\n",
    "def neural_network(input, weights):\n",
    "   prediction = w_sum(input, weights)\n",
    "   return prediction\n",
    "\n",
    "a = [8.5, 9.5, 9.9, 9.0]\n",
    "b = [0.65, 0.8, 0.8, 0.9]\n",
    "c = [1.2, 1.3, 0.5, 1.0]\n",
    "\n",
    "input = [a[0], b[0], c[0]]\n",
    "pred = neural_network(input, weights)\n",
    "print(pred)"
   ]
  },
  {
   "cell_type": "code",
   "execution_count": 2,
   "metadata": {},
   "outputs": [
    {
     "name": "stdout",
     "output_type": "stream",
     "text": [
      "0.9800000000000001\n"
     ]
    }
   ],
   "source": [
    "# With Numpy\n",
    "\n",
    "import numpy as np \n",
    "\n",
    "weights = np.array([0.1, 0.2, 0])\n",
    "\n",
    "def neural_network(input, weights):\n",
    "    prediction = np.dot(input, weights)   # or, pred = input.dot(weights)\n",
    "    return prediction\n",
    "\n",
    "a = np.array([8.5, 9.5, 9.9, 9.0])\n",
    "b = np.array([0.65, 0.8, 0.8, 0.9])\n",
    "c = np.array([1.2, 1.3, 0.5, 1.0])\n",
    "\n",
    "input = np.array([a[0], b[0], c[0]])\n",
    "pred = neural_network(input, weights)\n",
    "print(pred)"
   ]
  },
  {
   "cell_type": "markdown",
   "metadata": {},
   "source": [
    "Single input, multiple outputs"
   ]
  },
  {
   "cell_type": "code",
   "execution_count": 2,
   "metadata": {},
   "outputs": [
    {
     "name": "stdout",
     "output_type": "stream",
     "text": [
      "[0.195, 0.13, 0.5850000000000001]\n"
     ]
    }
   ],
   "source": [
    "# Without Numpy\n",
    "\n",
    "weights = [0.3, 0.2, 0.9]\n",
    "inputs = [0.65, 0.8, 0.8, 0.9]\n",
    "\n",
    "def ele_mul(number, vector):\n",
    "    output = [0, 0, 0]\n",
    "    assert(len(output) == len(vector))\n",
    "    for i in range(len(vector)):\n",
    "        output[i] = number * vector[i]\n",
    "    return output\n",
    "\n",
    "def neural_network(input, weights):\n",
    "    prediction = ele_mul(input, weights)\n",
    "    return prediction\n",
    "\n",
    "input = inputs[0]\n",
    "\n",
    "pred = neural_network(input, weights)\n",
    "\n",
    "print(pred)"
   ]
  },
  {
   "cell_type": "code",
   "execution_count": 3,
   "metadata": {},
   "outputs": [
    {
     "name": "stdout",
     "output_type": "stream",
     "text": [
      "[0.195, 0.13, 0.5850000000000001]\n"
     ]
    }
   ],
   "source": [
    "# With Numpy\n",
    "\n",
    "import numpy as np\n",
    "\n",
    "weights = np.array([0.3, 0.2, 0.9])\n",
    "inputs = np.array([0.65, 0.8, 0.8, 0.9])\n",
    "\n",
    "def neural_network(input, weights):\n",
    "    prediction = input * weights\n",
    "    return prediction\n",
    "\n",
    "input = inputs[0]\n",
    "\n",
    "pred = neural_network(input, weights)\n",
    "\n",
    "print(pred)"
   ]
  },
  {
   "cell_type": "markdown",
   "metadata": {},
   "source": [
    "Multiple inputs, multiple outputs"
   ]
  },
  {
   "cell_type": "code",
   "execution_count": 4,
   "metadata": {},
   "outputs": [
    {
     "name": "stdout",
     "output_type": "stream",
     "text": [
      "[0.555, 0, 0]\n"
     ]
    }
   ],
   "source": [
    "# Without Numpy\n",
    "\n",
    "weights = [[0.1, 0.1, -0.3],\n",
    "           [0.1, 0.2, 0.0],\n",
    "           [0.0, 1.3, 0.1]]\n",
    "\n",
    "input1 = [8.5, 9.5, 9.9, 9.0]\n",
    "input2 = [0.65, 0.8, 0.8, 0.9]\n",
    "input3 = [1.2, 1.3, 0.5, 1.0]\n",
    "\n",
    "def w_sum(a, b):\n",
    "    assert(len(a) == len(b))\n",
    "    output = 0\n",
    "    for i in range(len(a)):\n",
    "        output += (a[i] * b[i])\n",
    "    return output\n",
    "\n",
    "def vect_mat_mul(vect, matrix):\n",
    "    assert(len(vect) == len(matrix))\n",
    "    output = [0, 0, 0]\n",
    "    for i in range(len(vect)):\n",
    "        output[i] = w_sum(vect, matrix[i])\n",
    "        return output\n",
    "    \n",
    "def neural_network(input, weights):\n",
    "    prediction = vect_mat_mul(input, weights)\n",
    "    return prediction\n",
    "\n",
    "input = [input1[0], input2[0], input3[0]]\n",
    "\n",
    "pred = neural_network(input, weights)\n",
    "\n",
    "print(pred)"
   ]
  },
  {
   "cell_type": "code",
   "execution_count": 1,
   "metadata": {},
   "outputs": [
    {
     "name": "stdout",
     "output_type": "stream",
     "text": [
      "[0.555 0.98  0.965]\n"
     ]
    }
   ],
   "source": [
    "# With Numpy\n",
    "\n",
    "import numpy as np\n",
    "\n",
    "weights = np.array([[0.1, 0.1, -0.3],\n",
    "                    [0.1, 0.2, 0.0],\n",
    "                    [0.0, 1.3, 0.1]])\n",
    "\n",
    "input1 = np.array([8.5, 9.5, 9.9, 9.0])\n",
    "input2 = np.array([0.65, 0.8, 0.8, 0.9])\n",
    "input3 = np.array([1.2, 1.3, 0.5, 1.0])\n",
    "\n",
    "# Combine inputs into a single array for simplicity\n",
    "inputs = np.array([input1[0], input2[0], input3[0]])\n",
    "\n",
    "# Define the neural network function using NumPy\n",
    "def neural_network(input, weights):\n",
    "    prediction = np.dot(weights, input)  # Matrix multiplication\n",
    "    return prediction\n",
    "\n",
    "pred = neural_network(inputs, weights)\n",
    "\n",
    "print(pred)"
   ]
  },
  {
   "cell_type": "markdown",
   "metadata": {},
   "source": [
    "Multiple inputs, multiple outputs with one hidden layer"
   ]
  },
  {
   "cell_type": "code",
   "execution_count": 2,
   "metadata": {},
   "outputs": [
    {
     "name": "stdout",
     "output_type": "stream",
     "text": [
      "[0.258, 0, 0]\n"
     ]
    }
   ],
   "source": [
    "# Without Numpy\n",
    "\n",
    "ig_weights = [[0.1, 0.2, -0.1],\n",
    "             [-0.1, 0.1, 0.9],\n",
    "             [0.1, 0.4, 0.1]]\n",
    "\n",
    "hp_weights = [[0.3, 1.1, -0.3],\n",
    "              [0.1, 0.2, 0.0],\n",
    "              [0.0, 1.3, 0.1]]\n",
    "\n",
    "weights = [ig_weights, hp_weights]\n",
    "\n",
    "input1 = [8.5, 9.5, 9.9, 9.0]\n",
    "input2 = [0.65, 0.8, 0.8, 0.9]\n",
    "input3 = [1.2, 1.3, 0.5, 1.0]\n",
    "\n",
    "input = [input1[0], input2[0], input3[0]]\n",
    "\n",
    "def w_sum(a, b):\n",
    "    assert(len(a) == len(b))\n",
    "    output = 0\n",
    "    for i in range(len(a)):\n",
    "        output += (a[i] * b[i])\n",
    "    return output\n",
    "\n",
    "def vect_mat_mul(vect, matrix):\n",
    "    assert(len(vect) == len(matrix))\n",
    "    output = [0, 0, 0]\n",
    "    for i in range(len(vect)):\n",
    "        output[i] = w_sum(vect, matrix[i])\n",
    "        return output\n",
    "    \n",
    "def neural_network(input, weights):\n",
    "    hidden = vect_mat_mul(input, weights[0])\n",
    "    prediction = vect_mat_mul(hidden, weights[1])\n",
    "    return prediction\n",
    "\n",
    "pred = neural_network(input, weights)\n",
    "\n",
    "print(pred)"
   ]
  },
  {
   "cell_type": "code",
   "execution_count": 3,
   "metadata": {},
   "outputs": [
    {
     "name": "stdout",
     "output_type": "stream",
     "text": [
      "[ 0.496  1.256 -0.286]\n"
     ]
    }
   ],
   "source": [
    "# With Numpy\n",
    "\n",
    "import numpy as np\n",
    "\n",
    "ig_weights = np.array([\n",
    "    [0.1, 0.2, -0.1],\n",
    "    [-0.1, 0.1, 0.9],\n",
    "    [0.1, 0.4, 0.1]])\n",
    "\n",
    "hp_weights = np.array([\n",
    "    [0.3, 1.1, -0.3],\n",
    "    [0.1, 0.2, 0.0],\n",
    "    [0.0, 1.3, 0.1]])\n",
    "\n",
    "weights = [ig_weights, hp_weights]\n",
    "\n",
    "input1 = np.array([8.5, 9.5, 9.9, 9.0])\n",
    "input2 = np.array([0.65, 0.8, 0.8, 0.9])\n",
    "input3 = np.array([1.2, 1.3, 0.5, 1.0])\n",
    "\n",
    "input = np.array([input1[0], input2[0], input3[0]])\n",
    "\n",
    "def neural_network(input, weights):\n",
    "    hidden = np.dot(input, weights[0])\n",
    "    prediction = np.dot(hidden, weights[1])\n",
    "    return prediction\n",
    "\n",
    "pred = neural_network(input, weights)\n",
    "\n",
    "print(pred)"
   ]
  }
 ],
 "metadata": {
  "kernelspec": {
   "display_name": "Python 3",
   "language": "python",
   "name": "python3"
  },
  "language_info": {
   "codemirror_mode": {
    "name": "ipython",
    "version": 3
   },
   "file_extension": ".py",
   "mimetype": "text/x-python",
   "name": "python",
   "nbconvert_exporter": "python",
   "pygments_lexer": "ipython3",
   "version": "3.9.5"
  }
 },
 "nbformat": 4,
 "nbformat_minor": 2
}
